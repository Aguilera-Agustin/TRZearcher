{
 "cells": [
  {
   "cell_type": "markdown",
   "metadata": {},
   "source": [
    "# <center>Estructura de Datos</center>\n",
    "## <center>Universidad Nacional de Tres de Febrero</center>\n",
    "## <center>TRZearcher</center>"
   ]
  },
  {
   "cell_type": "markdown",
   "metadata": {},
   "source": [
    "### TRABAJO PRACTICO - TRANZAS DEL CODIGO\n",
    "    Aguilera, Agustin\n",
    "    Ambrosetti, Ramiro\n",
    "    Noguera, Sol\n",
    "    Tabarovsky, Javier"
   ]
  },
  {
   "cell_type": "markdown",
   "metadata": {},
   "source": [
    "### INTERFACE (FRONT)\n",
    "    La interfaz esta creada como un proceso separado del programa, con una unica clase la cual crea una interfaz grafica con el uso de la libreria tkinter.\n",
    "    En la cual a la hora de presionar el boton de buscar se realizan las siguientes acciones:\n",
    "    \n",
    "        1. Verifica que la entrada del producto no puede estar vacia, y al menos se debe seleccionar una pagina"
   ]
  },
  {
   "cell_type": "code",
   "execution_count": null,
   "metadata": {},
   "outputs": [],
   "source": [
    "    def __code_button(self):\n",
    "            if (str(self.product.get()).strip() == \"\") and (self.compra_gamer.get() + self.full_hard.get() + self.gezatek.get() + self.venex.get() + self.overdrive.get() <= 0):\n",
    "                messagebox.showerror(message=\"Recordar que:\\n - La entrada del producto no puede estar vacia\\n - Al menos hay que seleccionar una pagina\", title=\"Problema con TRZearcher\")\n",
    "            else:\n",
    "                self.__write_data_connector()\n",
    "                self.__write_pages()\n",
    "                subprocess.call(\"python ./Back/Connector/proyect_connector.py\", shell=True)\n",
    "                self.window.destroy()"
   ]
  },
  {
   "cell_type": "markdown",
   "metadata": {},
   "source": [
    "        2. Escribe los datos de la interfaz en un temporal, llamado temp_connector.txt, el cual luego es leido por el otro proceso"
   ]
  },
  {
   "cell_type": "code",
   "execution_count": null,
   "metadata": {},
   "outputs": [],
   "source": [
    "    def __write_data_connector(self):\n",
    "        with open(\"./Back/Connector/temp_connector.txt\", 'w') as pages_file:\n",
    "            pages_file.write(str(self.product.get()) + \"\\n\")\n",
    "            pages_file.write(str(self.compra_gamer.get()) + \"\\n\")\n",
    "            pages_file.write(str(self.full_hard.get()) + \"\\n\")\n",
    "            pages_file.write(str(self.gezatek.get()) + \"\\n\")\n",
    "            pages_file.write(str(self.venex.get()) + \"\\n\")\n",
    "            pages_file.write(str(self.overdrive.get()) + \"\\n\")\n",
    "            pages_file.write(str(self.option.get()) + \"\\n\")"
   ]
  },
  {
   "cell_type": "markdown",
   "metadata": {},
   "source": [
    "        3. Completa las paginas a buscar, leyendo de pages_initials.txt, agregando el producto al final y lo exporta a un temporal llamado page_complete.txt"
   ]
  },
  {
   "cell_type": "code",
   "execution_count": null,
   "metadata": {},
   "outputs": [],
   "source": [
    "    def __write_pages(self):\n",
    "        pages_complete = []\n",
    "        number_of_pages = 0\n",
    "        fileInitials = os.path.abspath(\"./Back/Searcher/Data/pages_initials.txt\")\n",
    "        fileComplete = os.path.abspath(\"./Back/Searcher/Data/pages_complete.txt\")\n",
    "        with open(fileInitials, \"r\") as pages_file:\n",
    "            for page in pages_file:\n",
    "                number_of_pages += 1\n",
    "                page = page.rstrip('\\n') + str(self.product.get()) + \"\\n\"\n",
    "                pages_complete.append(page)\n",
    "        with open(fileComplete, \"w\") as pages_file:\n",
    "            for x in range(0, number_of_pages):\n",
    "                pages_file.write(pages_complete[x])"
   ]
  },
  {
   "cell_type": "markdown",
   "metadata": {},
   "source": [
    "        Una vez finalizado, se ejecuta el siguiente proceso, y se cierra la ventana"
   ]
  },
  {
   "cell_type": "markdown",
   "metadata": {},
   "source": [
    "### CONNECTOR (BACK)\n",
    "    El modulo connector esta creado para la conexion del programa, la cual esta compuesta de dos clases proyect_connector y spyder_connector.\n",
    "        1. proyect_connector: Se basa en la lectura de los datos obtenidos de interfaz (a travez del temporal temp_connector.txt)"
   ]
  },
  {
   "cell_type": "code",
   "execution_count": null,
   "metadata": {},
   "outputs": [],
   "source": [
    "    from Back.Connector.spyder_connector import Connector\n",
    "\n",
    "    __data = []\n",
    "    with open(\"./Back/Connector/temp_connector.txt\", \"r\") as data_connector:\n",
    "        for data in data_connector:\n",
    "            __data.append(str(data).strip())\n",
    "\n",
    "    Connector(__data[0], __data[1], __data[2], __data[3], __data[4], __data[5], __data[6])"
   ]
  },
  {
   "cell_type": "markdown",
   "metadata": {},
   "source": [
    "        2. spyder_connector: Es la clase mas importante del programa, la cual es la encargada en primer instancia de verificar que paginas se quieren buscar, para proceder a ejecutar las Spiders, a su vez elimina los archivos temporales"
   ]
  },
  {
   "cell_type": "code",
   "execution_count": null,
   "metadata": {},
   "outputs": [],
   "source": [
    "    from Back.Searcher.Spiders.orchestrator import Orchestrator\n",
    "    from Back.Processor.sorter import Sorter\n",
    "    import os\n",
    "    import sys\n",
    "\n",
    "\n",
    "    class Connector:\n",
    "\n",
    "        def __init__(self, product, compragamer, fullhard, gezatek, venex, overdrive, type_search):\n",
    "            self.product = product\n",
    "            self.pages = self.__spiders_validation(compragamer, fullhard, gezatek, venex, overdrive)\n",
    "            self.type_search = type_search\n",
    "\n",
    "        def __spiders_validation(self, compragamer, fullhard, gezatek, venex, overdrive):\n",
    "            pages = []\n",
    "            if int(compragamer) == 1:\n",
    "                pages.append(\"compragamer\")\n",
    "            if int(fullhard) == 1:\n",
    "                pages.append(\"fullh4rd\")\n",
    "            if int(gezatek) == 1:\n",
    "                pages.append(\"gezatek\")\n",
    "            if int(overdrive) == 1:\n",
    "                pages.append(\"overdrive\")\n",
    "            if int(venex) == 1:\n",
    "                pages.append(\"venex\")\n",
    "            return pages\n",
    "\n",
    "        def execute_connector(self):\n",
    "            Orchestrator().execute_spiders(self.pages)\n",
    "            Sorter(self.pages, self.product, self.type_search).execute_sorter()\n",
    "            self.__clean()\n",
    "            sys.exit()\n",
    "\n",
    "        def __clean(self):\n",
    "            os.remove(\"./Back/Connector/temp_connector.txt\")\n",
    "            os.remove(\"./Back/Searcher/Data/pages_complete.txt\")\n",
    "            for page in self.pages:\n",
    "                os.remove(page + \".csv\")"
   ]
  }
 ],
 "metadata": {
  "kernelspec": {
   "display_name": "Python 3",
   "language": "python",
   "name": "python3"
  },
  "language_info": {
   "codemirror_mode": {
    "name": "ipython",
    "version": 3
   },
   "file_extension": ".py",
   "mimetype": "text/x-python",
   "name": "python",
   "nbconvert_exporter": "python",
   "pygments_lexer": "ipython3",
   "version": "3.9.0"
  }
 },
 "nbformat": 4,
 "nbformat_minor": 4
}
